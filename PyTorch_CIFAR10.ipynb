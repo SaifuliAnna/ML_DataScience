{
  "nbformat": 4,
  "nbformat_minor": 0,
  "metadata": {
    "colab": {
      "provenance": [],
      "authorship_tag": "ABX9TyM7k40q3aD0WZNrqBavU80Y",
      "include_colab_link": true
    },
    "kernelspec": {
      "name": "python3",
      "display_name": "Python 3"
    },
    "language_info": {
      "name": "python"
    }
  },
  "cells": [
    {
      "cell_type": "markdown",
      "metadata": {
        "id": "view-in-github",
        "colab_type": "text"
      },
      "source": [
        "<a href=\"https://colab.research.google.com/github/SaifuliAnna/ML_DataScience/blob/main/PyTorch_CIFAR10.ipynb\" target=\"_parent\"><img src=\"https://colab.research.google.com/assets/colab-badge.svg\" alt=\"Open In Colab\"/></a>"
      ]
    },
    {
      "cell_type": "markdown",
      "source": [],
      "metadata": {
        "id": "6I5blhwMuE--"
      }
    },
    {
      "cell_type": "code",
      "execution_count": 2,
      "metadata": {
        "id": "85w6DC4DsCjd"
      },
      "outputs": [],
      "source": [
        "# Using torchvision, it’s very easy to load CIFAR10\n",
        "\n",
        "import torch\n",
        "import torchvision\n",
        "import torchvision.transforms as transforms"
      ]
    },
    {
      "cell_type": "markdown",
      "source": [
        "Наступний код визначає послідовність перетворень (`transform`) для попередньої підготовки зображень перед їх подачею до нейромережі. Перетворення використовуються для нормалізації та конвертації даних в підходящий для нейромережі формат. Давайте розглянемо його крок за кроком:\n",
        "\n",
        "1. **`transforms.ToTensor()`**: Це перетворення конвертує зображення з формату `PIL` (Python Imaging Library) у тензор PyTorch. Тензор - це основна структура даних для роботи з нейромережами в PyTorch.\n",
        "\n",
        "2. **`transforms.Normalize((0.5, 0.5, 0.5), (0.5, 0.5, 0.5))`**: Це нормалізаційне перетворення. Воно нормалізує значення каналів кольору зображення. Параметр `(0.5, 0.5, 0.5)` вказує на середнє значення для кожного каналу (червоний, зелений та синій), а `(0.5, 0.5, 0.5)` вказує на стандартне відхилення для кожного каналу. Це допомагає привести значення пікселів до діапазону від -1 до 1, що сприяє кращому навчанню нейромережі.\n",
        "\n",
        "`transforms.Compose` дозволяє вказати послідовність перетворень, які будуть застосовані до зображення в заданому порядку. У вашому випадку, `transforms.ToTensor()` виконується першим, а потім `transforms.Normalize()`.\n",
        "\n",
        "Ці перетворення допомагають приготувати дані для навчання, так як нейромережі часто працюють з тензорами та потребують відносно нормалізованих даних для оптимальної продуктивності."
      ],
      "metadata": {
        "id": "3Z-WmKUlXyF1"
      }
    },
    {
      "cell_type": "code",
      "source": [
        "# The output of torchvision datasets are PILImage images of range [0, 1]. We transform them to Tensors of normalized range [-1, 1]\n",
        "\n",
        "transform = transforms.Compose(\n",
        "    [transforms.ToTensor(),\n",
        "     transforms.Normalize((0.5, 0.5, 0.5), (0.5, 0.5, 0.5))])"
      ],
      "metadata": {
        "id": "HL6JEzMnuLrX"
      },
      "execution_count": 3,
      "outputs": []
    },
    {
      "cell_type": "code",
      "source": [
        "transform"
      ],
      "metadata": {
        "colab": {
          "base_uri": "https://localhost:8080/"
        },
        "id": "PpoN1APSuJNh",
        "outputId": "5eb5efa4-4a6e-4ab6-94d1-c1f8b5b2232e"
      },
      "execution_count": 4,
      "outputs": [
        {
          "output_type": "execute_result",
          "data": {
            "text/plain": [
              "Compose(\n",
              "    ToTensor()\n",
              "    Normalize(mean=(0.5, 0.5, 0.5), std=(0.5, 0.5, 0.5))\n",
              ")"
            ]
          },
          "metadata": {},
          "execution_count": 4
        }
      ]
    },
    {
      "cell_type": "markdown",
      "source": [
        "Наступний код створює два набори даних (навчальний та тестовий) для навчання і валідації нейромережі на прикладі датасету CIFAR-10. Давайте розглянемо кожний крок цього коду:\n",
        "\n",
        "1. **Створення навчального набору даних (`trainset`)**:\n",
        "\n",
        "   - `root='./data'`: Це шлях, за яким зберігатимуться дані. Зазвичай, дані завантажуються та зберігаються у папці `./data`.\n",
        "   - `train=True`: Вказує, що це навчальний набір даних.\n",
        "   - `download=True`: Якщо `True`, датасет буде завантажено, якщо він ще не був завантажений.\n",
        "   - `transform=transform`: Використовується об'єкт `transform`, який був визначений раніше, для попереднього підготування даних перед навчанням.\n",
        "\n",
        "2. **Створення навчального даталоадера (`trainloader`)**:\n",
        "   \n",
        "   - `batch_size=4`: Вказує розмір батча (кількість прикладів), який буде використовуватися під час навчання.\n",
        "   - `shuffle=True`: Вказує, що дані в батчах будуть перемішуватися перед кожною епохою. Це допомагає нейромережі отримати більш різноманітні та репрезентативні дані.\n",
        "   - `num_workers=2`: Кількість робочих потоків, які використовуються для завантаження даних у фоновому режимі.\n",
        "\n",
        "3. **Створення тестового набору даних (`testset`)**:\n",
        "\n",
        "   - `root='./data'`: Також вказує шлях для зберігання тестових даних.\n",
        "   - `train=False`: Вказує, що це тестовий набір даних.\n",
        "   - `download=True`: Знову, якщо `True`, датасет буде завантажено, якщо він ще не був завантажений.\n",
        "   - `transform=transform`: Використовується той самий об'єкт `transform`, який був визначений раніше, для підготування тестових даних.\n",
        "\n",
        "4. **Створення тестового даталоадера (`testloader`)**:\n",
        "   \n",
        "   - Тут такі ж параметри, які були вказані для навчального даталоадера: `batch_size=4`, `shuffle=False` (бо тестові дані не потребують перемішування) та `num_workers=2`.\n",
        "\n",
        "Отже, в результаті цього коду ми отримуєте два набори даних (`trainloader` та `testloader`), які вже підготовлені для використання у навчанні та тестуванні нейромережі."
      ],
      "metadata": {
        "id": "aajaGFijYZ0Q"
      }
    },
    {
      "cell_type": "code",
      "source": [
        "trainset = torchvision.datasets.CIFAR10(root='./data', train=True,\n",
        "                                        download=True, transform=transform)\n",
        "trainloader = torch.utils.data.DataLoader(trainset, batch_size=4,\n",
        "                                          shuffle=True, num_workers=2)\n",
        "\n",
        "testset = torchvision.datasets.CIFAR10(root='./data', train=False,\n",
        "                                       download=True, transform=transform)\n",
        "testloader = torch.utils.data.DataLoader(testset, batch_size=4,\n",
        "                                         shuffle=False, num_workers=2)"
      ],
      "metadata": {
        "colab": {
          "base_uri": "https://localhost:8080/"
        },
        "id": "eD46P_M1uVt0",
        "outputId": "d9e7f910-7a6c-4862-c37d-4ad9526254b7"
      },
      "execution_count": 19,
      "outputs": [
        {
          "output_type": "stream",
          "name": "stdout",
          "text": [
            "Files already downloaded and verified\n",
            "Files already downloaded and verified\n"
          ]
        }
      ]
    },
    {
      "cell_type": "code",
      "source": [
        "print(f\"trainset: {trainset}\")\n",
        "print(f\"trainloader: {trainloader}\")\n",
        "print(f\"testset: {testset}\")\n",
        "print(f\"testloader: {testloader}\")"
      ],
      "metadata": {
        "colab": {
          "base_uri": "https://localhost:8080/"
        },
        "id": "JWP7o7KLuXyF",
        "outputId": "f30bbc10-0d9e-4747-8b89-12ba7786379f"
      },
      "execution_count": 6,
      "outputs": [
        {
          "output_type": "stream",
          "name": "stdout",
          "text": [
            "trainset: Dataset CIFAR10\n",
            "    Number of datapoints: 50000\n",
            "    Root location: ./data\n",
            "    Split: Train\n",
            "    StandardTransform\n",
            "Transform: Compose(\n",
            "               ToTensor()\n",
            "               Normalize(mean=(0.5, 0.5, 0.5), std=(0.5, 0.5, 0.5))\n",
            "           )\n",
            "trainloader: <torch.utils.data.dataloader.DataLoader object at 0x7e89340adbd0>\n",
            "testset: Dataset CIFAR10\n",
            "    Number of datapoints: 10000\n",
            "    Root location: ./data\n",
            "    Split: Test\n",
            "    StandardTransform\n",
            "Transform: Compose(\n",
            "               ToTensor()\n",
            "               Normalize(mean=(0.5, 0.5, 0.5), std=(0.5, 0.5, 0.5))\n",
            "           )\n",
            "testloader: <torch.utils.data.dataloader.DataLoader object at 0x7e89340ace80>\n"
          ]
        }
      ]
    },
    {
      "cell_type": "code",
      "source": [
        "classes = ('plane', 'car', 'bird', 'cat',\n",
        "           'deer', 'dog', 'frog', 'horse', 'ship', 'truck')"
      ],
      "metadata": {
        "id": "cjFUuQ70vlUk"
      },
      "execution_count": 7,
      "outputs": []
    },
    {
      "cell_type": "code",
      "source": [
        "import matplotlib.pyplot as plt\n",
        "import numpy as np"
      ],
      "metadata": {
        "id": "15MIXtztvr4F"
      },
      "execution_count": 8,
      "outputs": []
    },
    {
      "cell_type": "code",
      "source": [
        "# functions to show an image\n",
        "\n",
        "def imshow(img):\n",
        "    img = img / 2 + 0.5     # unnormalize\n",
        "    npimg = img.numpy()\n",
        "    plt.imshow(np.transpose(npimg, (1, 2, 0)))\n",
        "    plt.show()"
      ],
      "metadata": {
        "id": "orqC1RmWvx9b"
      },
      "execution_count": 9,
      "outputs": []
    },
    {
      "cell_type": "markdown",
      "source": [
        "Наступний код працює з даними та мітками з першого батча навчального набору даних (`trainloader`) і виводить деяку візуалізацію для демонстрації. Давайте розглянемо його крок за кроком:\n",
        "\n",
        "1. **Отримання даних та міток**: `dataiter = iter(trainloader)` створює ітератор для навчального набору даних, і `images, labels = next(dataiter)` отримує перший батч даних та міток з навчального набору.\n",
        "\n",
        "2. **Відображення зображень**: `imshow(torchvision.utils.make_grid(images))` - ця функція використовується для відображення зображень на екрані. `torchvision.utils.make_grid(images)` розташовує зображення в сітці для більш чіткого відображення.\n",
        "\n",
        "3. **Виведення міток**: `print(' '.join('%5s' % classes[labels[j]] for j in range(4)))` - цей рядок виводить перші чотири мітки зображень, які відповідають класам з відповідного набору класів (`classes`). `classes` припустимо містить назви класів для вашого завдання класифікації.\n",
        "\n",
        "Цей код допомагає нам візуалізувати деякі приклади даних з навчального набору та їх відповідні мітки, щоб перевірити, як виглядають дані та чи відповідають мітки очікуваним класам. Така візуалізація може допомогти нам зрозуміти, як дані виглядають і як нейромережа може їх інтерпретувати під час навчання."
      ],
      "metadata": {
        "id": "G7qELKvzWDQ4"
      }
    },
    {
      "cell_type": "code",
      "source": [
        "# get some random training images\n",
        "\n",
        "dataiter = iter(trainloader)\n",
        "images, labels = next(dataiter)\n",
        "\n",
        "# show images\n",
        "imshow(torchvision.utils.make_grid(images))\n",
        "\n",
        "# print labels\n",
        "print(' '.join('%5s' % classes[labels[j]] for j in range(4)))\n"
      ],
      "metadata": {
        "colab": {
          "base_uri": "https://localhost:8080/",
          "height": 211
        },
        "id": "rJvLKERawFXE",
        "outputId": "19416784-fcb0-4ddc-bf9b-e8fccc098044"
      },
      "execution_count": 10,
      "outputs": [
        {
          "output_type": "display_data",
          "data": {
            "text/plain": [
              "<Figure size 640x480 with 1 Axes>"
            ],
            "image/png": "[encoded data removed]"
          },
          "metadata": {}
        },
        {
          "output_type": "stream",
          "name": "stdout",
          "text": [
            "horse   cat   car  deer\n"
          ]
        }
      ]
    },
    {
      "cell_type": "markdown",
      "source": [
        "Наступний код визначає архітектуру нейромережі за допомогою бібліотеки PyTorch:\n",
        "\n",
        "1. **Імпорт бібліотек**: Імпорт двох модулів `nn` та `nn.functional`, які входять до бібліотеки PyTorch. Модуль `nn` містить класи для визначення різних шарів нейромережі, а `nn.functional` надає функції активації та інші функції для обробки даних.\n",
        "\n",
        "2. **Визначення класу `Net`**: Цей клас є підкласом `nn.Module`, що дозволяє визначити структуру нейромережі.\n",
        "\n",
        "3. **Конструктор `__init__`**: В конструкторі визначається структура нейромережі. У цьому випадку використовуються такі шари:\n",
        "   - `nn.Conv2d(3, 6, 5)`: Згортковий шар із 3 вхідними каналами, 6 вихідними каналами та ядром 5x5.\n",
        "   - `nn.MaxPool2d(2, 2)`: Пулінговий шар з розміром пулінгової області 2x2 та кроком 2.\n",
        "   - `nn.Conv2d(6, 16, 5)`: Згортковий шар із 6 вхідними каналами, 16 вихідними каналами та ядром 5x5.\n",
        "   - `nn.Linear(16 * 5 * 5, 120)`: Повно з'єднаний шар зі входами розміром 16 * 5 * 5 (результат згорткових та пулінгових шарів) і 120 виходами.\n",
        "   - `nn.Linear(120, 84)`: Ще один повно з'єднаний шар з 120 входами та 84 виходами.\n",
        "   - `nn.Linear(84, 10)`: Останній повно з'єднаний шар з 84 входами та 10 виходами (кількість класів).\n",
        "\n",
        "4. **Метод `forward`**: Цей метод визначає прохід даних через нейромережу. Вхідні дані `x` пройшли через згорткові, пулінгові та повні з'єднані шари за вказаною структурою. Функції активації `F.relu` застосовуються між деякими шарами. Вихідні дані нейромережі повертаються.\n",
        "\n",
        "5. **Створення об'єкта `net`**: На останньому рядку коду створюється об'єкт класу `Net`, який відповідає визначеній архітектурі нейромережі.\n",
        "\n",
        "Ця архітектура є прикладом класичної згорткової нейромережі для обробки зображень. Вона має два згорткових шари, пулінгові шари для зменшення розміру зображення та повні з'єднані шари для класифікації."
      ],
      "metadata": {
        "id": "SHDc3lJpyY1Q"
      }
    },
    {
      "cell_type": "code",
      "source": [
        "# define a Convolutional Neural Network using PyTorch\n",
        "\n",
        "import torch.nn as nn\n",
        "import torch.nn.functional as F\n",
        "\n",
        "\n",
        "class Net(nn.Module):\n",
        "    def __init__(self):\n",
        "        super(Net, self).__init__()\n",
        "        self.conv1 = nn.Conv2d(3, 6, 5)\n",
        "        self.pool = nn.MaxPool2d(2, 2)\n",
        "        self.conv2 = nn.Conv2d(6, 16, 5)\n",
        "        self.fc1 = nn.Linear(16 * 5 * 5, 120)\n",
        "        self.fc2 = nn.Linear(120, 84)\n",
        "        self.fc3 = nn.Linear(84, 10)\n",
        "\n",
        "    def forward(self, x):\n",
        "        x = self.pool(F.relu(self.conv1(x)))\n",
        "        x = self.pool(F.relu(self.conv2(x)))\n",
        "        x = x.view(-1, 16 * 5 * 5)\n",
        "        x = F.relu(self.fc1(x))\n",
        "        x = F.relu(self.fc2(x))\n",
        "        x = self.fc3(x)\n",
        "        return x\n",
        "\n",
        "\n",
        "net = Net()"
      ],
      "metadata": {
        "id": "maaxCAVTxJzy"
      },
      "execution_count": 11,
      "outputs": []
    },
    {
      "cell_type": "code",
      "source": [
        "# define a loss function using a Classification cross-Entropy loss and SGD with momentum\n",
        "\n",
        "import torch.optim as optim\n",
        "\n",
        "criterion = nn.CrossEntropyLoss()\n",
        "optimizer = optim.SGD(net.parameters(), lr=0.001, momentum=0.9)"
      ],
      "metadata": {
        "id": "8fdYPIbyR8Gk"
      },
      "execution_count": 12,
      "outputs": []
    },
    {
      "cell_type": "markdown",
      "source": [
        "Наступний код представляє навчання нейромережі за допомогою методу стохастичного градієнтного спуску. Давайте розглянемо його детально:\n",
        "\n",
        "1. **Цикл навчання по епохам**: Починається з циклу по епохам, де число епох задано значенням `2`. Один прохід через весь набір даних називається \"епохою\".\n",
        "\n",
        "2. **Ініціалізація змінної `running_loss`**: Змінна `running_loss` використовується для накопичення значення втрати під час навчання поточної епохи.\n",
        "\n",
        "3. **Цикл навчання по батчам**: Вкладений цикл `for i, data in enumerate(trainloader, 0):` відповідає за ітерацію по батчам даних з навчального даталоадера (`trainloader`). `i` - це номер батча, `data` - список, який містить дані та мітки.\n",
        "\n",
        "4. **Отримання даних та міток**: `inputs, labels = data` - розпаковує дані та мітки з поточного батча.\n",
        "\n",
        "5. **Очищення градієнтів**: `optimizer.zero_grad()` - обнуляє градієнти параметрів моделі. Це необхідно перед обчисленням нових градієнтів у поточному батчі.\n",
        "\n",
        "6. **Прямий та зворотній прохід через мережу**: `outputs = net(inputs)` - обчислює передбачення нейромережі для вхідних даних. `loss = criterion(outputs, labels)` - обчислюється значення функції втрати між передбаченнями і справжніми мітками. `loss.backward()` - обчислюються градієнти відносно параметрів моделі за допомогою алгоритму зворотнього поширення помилки.\n",
        "\n",
        "7. **Оптимізація параметрів**: `optimizer.step()` - оновлює параметри моделі, використовуючи обчислені градієнти.\n",
        "\n",
        "8. **Відстеження втрати**: `running_loss += loss.item()` - додає значення поточної втрати до `running_loss`.\n",
        "\n",
        "9. **Виведення статистики**: `if i % 2000 == 1999:` - виводиться статистика втрати для кожних 2000 батчів. Це допомагає візуалізувати процес навчання.\n",
        "\n",
        "10. **Виведення закінчення навчання**: Після завершення обходу батчів для кожної епохи, виводиться повідомлення \"Finished Training\", що позначає закінчення процесу навчання.\n",
        "\n",
        "Цей код демонструє типовий цикл навчання для нейромережі: прямий та зворотній прохід, оновлення параметрів моделі та відстеження втрати. Такий підхід допомагає моделі вдосконалювати свої параметри для досягнення кращої продуктивності на завданні."
      ],
      "metadata": {
        "id": "2S7U3nUmSUYr"
      }
    },
    {
      "cell_type": "code",
      "source": [
        "# train the Neural Network\n",
        "\n",
        "for epoch in range(2):  # loop over the dataset multiple times\n",
        "\n",
        "    running_loss = 0.0\n",
        "    for i, data in enumerate(trainloader, 0):\n",
        "        # get the inputs; data is a list of [inputs, labels]\n",
        "        inputs, labels = data\n",
        "\n",
        "        # zero the parameter gradients\n",
        "        optimizer.zero_grad()\n",
        "\n",
        "        # forward + backward + optimize\n",
        "        outputs = net(inputs)\n",
        "        loss = criterion(outputs, labels)\n",
        "        loss.backward()\n",
        "        optimizer.step()\n",
        "\n",
        "        # print statistics\n",
        "        running_loss += loss.item()\n",
        "        if i % 2000 == 1999:    # print every 2000 mini-batches\n",
        "            print('[%d, %5d] loss: %.3f' %\n",
        "                  (epoch + 1, i + 1, running_loss / 2000))\n",
        "            running_loss = 0.0\n",
        "\n",
        "print('Finished Training')"
      ],
      "metadata": {
        "colab": {
          "base_uri": "https://localhost:8080/"
        },
        "id": "9_7PBiMzSGFn",
        "outputId": "e04d254f-5132-4826-a2a1-96d39a5f1949"
      },
      "execution_count": 13,
      "outputs": [
        {
          "output_type": "stream",
          "name": "stdout",
          "text": [
            "[1,  2000] loss: 2.178\n",
            "[1,  4000] loss: 1.831\n",
            "[1,  6000] loss: 1.686\n",
            "[1,  8000] loss: 1.576\n",
            "[1, 10000] loss: 1.520\n",
            "[1, 12000] loss: 1.481\n",
            "[2,  2000] loss: 1.404\n",
            "[2,  4000] loss: 1.371\n",
            "[2,  6000] loss: 1.351\n",
            "[2,  8000] loss: 1.308\n",
            "[2, 10000] loss: 1.317\n",
            "[2, 12000] loss: 1.275\n",
            "Finished Training\n"
          ]
        }
      ]
    },
    {
      "cell_type": "code",
      "source": [
        "# save model\n",
        "\n",
        "PATH = './cifar_net.pth'\n",
        "torch.save(net.state_dict(), PATH)"
      ],
      "metadata": {
        "id": "JPRnQuE0UT6Z"
      },
      "execution_count": 14,
      "outputs": []
    },
    {
      "cell_type": "code",
      "source": [
        "# test our trained Neural Network on the test data. But we need to check if the\n",
        "# network has learnt anything at all. We will check this by predicting the class\n",
        "# label that the neural network outputs, and checking it against the ground-truth.\n",
        "# If the prediction is correct, we add the sample to the list of correct predictions.\n",
        "\n",
        "dataiter = iter(testloader)\n",
        "images, labels = next(dataiter)\n",
        "\n",
        "# print images\n",
        "imshow(torchvision.utils.make_grid(images))\n",
        "print('GroundTruth: ', ' '.join('%5s' % classes[labels[j]] for j in range(4)))"
      ],
      "metadata": {
        "colab": {
          "base_uri": "https://localhost:8080/",
          "height": 211
        },
        "id": "o041g6CxVUdm",
        "outputId": "c09288cd-1605-409b-e079-3e5bcdf6caa9"
      },
      "execution_count": 16,
      "outputs": [
        {
          "output_type": "display_data",
          "data": {
            "text/plain": [
              "<Figure size 640x480 with 1 Axes>"
            ],
            "image/png": "[encoded data removed]"
          },
          "metadata": {}
        },
        {
          "output_type": "stream",
          "name": "stdout",
          "text": [
            "GroundTruth:    cat  ship  ship plane\n"
          ]
        }
      ]
    },
    {
      "cell_type": "code",
      "source": [
        "#  load saved model\n",
        "\n",
        "net = Net()\n",
        "net.load_state_dict(torch.load(PATH))"
      ],
      "metadata": {
        "colab": {
          "base_uri": "https://localhost:8080/"
        },
        "id": "frYu0izhWZyP",
        "outputId": "828d0c54-c8d8-471d-e0f3-55c1602f3c16"
      },
      "execution_count": 17,
      "outputs": [
        {
          "output_type": "execute_result",
          "data": {
            "text/plain": [
              "<All keys matched successfully>"
            ]
          },
          "metadata": {},
          "execution_count": 17
        }
      ]
    },
    {
      "cell_type": "markdown",
      "source": [
        "Наступний код використовує навчену нейромережу для здійснення передбачень (прогнозів) для зображень з першого батча навчального набору та виводить отримані передбачення. Розглянемо його крок за кроком:\n",
        "\n",
        "1. **Використання нейромережі для передбачення**: `outputs = net(images)` - нейромережа `net` використовується для обчислення передбачень для зображень `images` з першого батча. `outputs` буде містити вектори передбачень для кожного зображення в батчі.\n",
        "\n",
        "2. **Отримання класів з найвищою вірогідністю**: `_, predicted = torch.max(outputs, 1)` - використовуючи функцію `torch.max`, знаходяться індекси класів з найвищою вірогідністю для кожного зображення в батчі. `predicted` буде містити прогнозовані класи для кожного зображення.\n",
        "\n",
        "3. **Виведення передбачень**: `print('Predicted: ', ' '.join('%5s' % classes[predicted[j]] for j in range(4)))` - цей рядок виводить передбачені класи для перших чотирьох зображень у батчі. Виведені класи можуть вказати на те, як нейромережа інтерпретує та класифікує ці зображення.\n",
        "\n",
        "Після цього коду, ми можете порівняти передбачені класи з реальними мітками для вивчення того, наскільки точно навчена модель класифікує зображення. Такий аналіз допомагає зрозуміти, як добре нейромережа виконує завдання класифікації."
      ],
      "metadata": {
        "id": "AXf7My9LXO7W"
      }
    },
    {
      "cell_type": "code",
      "source": [
        "# now let us see what our trained neural network thinks these examples above are\n",
        "\n",
        "outputs = net(images)\n",
        "_, predicted = torch.max(outputs, 1)\n",
        "\n",
        "print('Predicted: ', ' '.join('%5s' % classes[predicted[j]]\n",
        "                              for j in range(4)))"
      ],
      "metadata": {
        "colab": {
          "base_uri": "https://localhost:8080/"
        },
        "id": "OXtxWycDWf5V",
        "outputId": "3f8584e1-73a1-4ade-9e96-0dc418f669af"
      },
      "execution_count": 18,
      "outputs": [
        {
          "output_type": "stream",
          "name": "stdout",
          "text": [
            "Predicted:    cat   car truck plane\n"
          ]
        }
      ]
    },
    {
      "cell_type": "markdown",
      "source": [
        "Наступний код є частиною програми для оцінки точності нейромережі (або моделі машинного навчання) на тестових даних. Основна мета - визначити, наскільки добре модель впоралася з класифікацією зображень на тестовому наборі даних.\n",
        "\n",
        "1. `correct = 0` та `total = 0`: Ці змінні використовуються для відстеження кількості правильних класифікацій (correct) і загальної кількості зображень (total).\n",
        "\n",
        "2. `with torch.no_grad():`: Цей оператор вказує, що під час виконання наступних команд не потрібно зберігати градієнти для автоматичного зворотного поширення помилки (backpropagation). Це ефективно зменшує використання пам'яті і обчислювальний затрати під час тестування.\n",
        "\n",
        "3. `for data in testloader:`: Це цикл, який проходить через тестовий набір даних. `testloader` ймовірно є об'єктом або ітератором, який надає зображення та відповідні мітки.\n",
        "\n",
        "4. `images, labels = data`: Звернення `data` містить зображення та відповідні мітки, які розпаковуються в `images` та `labels`.\n",
        "\n",
        "5. `outputs = net(images)`: Зображення `images` передаються через нейромережу `net`, щоб отримати прогнозовані виходи для кожного зображення.\n",
        "\n",
        "6. `_, predicted = torch.max(outputs.data, 1)`: Тут використовується функція `torch.max()`, щоб знайти клас з найвищим значенням виходу для кожного зображення. Змінна `predicted` містить передбачені класи для кожного зображення.\n",
        "\n",
        "7. `total += labels.size(0)`: Додає кількість зображень у пакеті до загальної кількості зображень `total`.\n",
        "\n",
        "8. `correct += (predicted == labels).sum().item()`: Змінна `correct` збільшується на кількість вірних класифікацій у пакеті. Порівняння `(predicted == labels)` дає булевий тензор, де `True` вказує на правильну класифікацію, і потім здійснюється підсумовування булевих значень за допомогою `.sum()`, а звідти взято `.item()` для отримання числового значення.\n",
        "\n",
        "9. На останок, `print('Accuracy of the network on the 10000 test images: %d %%' % (100 * correct / total))`: Виводиться точність (accuracy) мережі на тестовому наборі даних у відсотках, розрахована як відношення `correct` до `total`.\n",
        "\n",
        "Отже, цей код обчислює та виводить точність моделі на тестовому наборі даних."
      ],
      "metadata": {
        "id": "RUYSxlbBZeYv"
      }
    },
    {
      "cell_type": "code",
      "source": [
        "# accuracy of our trained neural network\n",
        "\n",
        "correct = 0\n",
        "total = 0\n",
        "with torch.no_grad():\n",
        "    for data in testloader:\n",
        "        images, labels = data\n",
        "        outputs = net(images)\n",
        "        _, predicted = torch.max(outputs.data, 1)\n",
        "        total += labels.size(0)\n",
        "        correct += (predicted == labels).sum().item()\n",
        "\n",
        "print('Accuracy of the network on the 10000 test images: %d %%' % (\n",
        "    100 * correct / total))"
      ],
      "metadata": {
        "colab": {
          "base_uri": "https://localhost:8080/"
        },
        "id": "b0o6Wn2eYkRA",
        "outputId": "a451230c-44e9-4126-de82-bc74fe0f6db7"
      },
      "execution_count": 20,
      "outputs": [
        {
          "output_type": "stream",
          "name": "stdout",
          "text": [
            "Accuracy of the network on the 10000 test images: 54 %\n"
          ]
        }
      ]
    },
    {
      "cell_type": "markdown",
      "source": [
        "Наступний код також відноситься до оцінки точності нейромережі, але вже не загальної точності на всьому тестовому наборі, а точності для кожного окремого класу. Він рахує, наскільки добре модель впоралася з класифікацією для кожного окремого класу.\n",
        "\n",
        "\n",
        "1. `class_correct = list(0. for i in range(10))` та `class_total = list(0. for i in range(10))`: Ці змінні представляють собою два списки, де кожен елемент відповідає одному класу. `class_correct` буде використовуватися для відстеження кількості правильних класифікацій для кожного класу, а `class_total` - загальної кількості зображень у кожному класі.\n",
        "\n",
        "2. `with torch.no_grad():`: Цей оператор також використовується для запобігання збереженню градієнтів під час виконання наступних команд.\n",
        "\n",
        "3. `for data in testloader:`: Цикл обробляє тестовий набір даних, як і раніше.\n",
        "\n",
        "4. `outputs = net(images)`: Модель використовується для отримання прогнозованих виходів.\n",
        "\n",
        "5. `_, predicted = torch.max(outputs, 1)`: Отримання прогнозованих класів для кожного зображення.\n",
        "\n",
        "6. `c = (predicted == labels).squeeze()`: Створення булевого тензору `c`, де `True` вказує на правильну класифікацію для кожного зображення.\n",
        "\n",
        "7. `for i in range(4):`: Цикл, який проходить через перші 4 зображення в пакеті (можливо, для демонстраційних цілей).\n",
        "\n",
        "8. `label = labels[i]`: Отримання мітки (класу) для поточного зображення.\n",
        "\n",
        "9. `class_correct[label] += c[i].item()`: Додавання `1` до `class_correct[label]`, якщо класифікація була правильною для цього зображення.\n",
        "\n",
        "10. `class_total[label] += 1`: Збільшення `class_total[label]` на `1` для підрахунку загальної кількості зображень в кожному класі.\n",
        "\n",
        "11. Після циклу, використовується цикл `for i in range(10)` для проходу через всі класи.\n",
        "\n",
        "12. `print('Accuracy of %5s : %2d %%' % (classes[i], 100 * class_correct[i] / class_total[i]))`: Друкується точність (у відсотках) для кожного класу. `classes[i]` - назва класу, `class_correct[i]` - кількість правильних класифікацій для цього класу, а `class_total[i]` - загальна кількість зображень у цьому класі.\n",
        "\n",
        "Цей код дозволяє нам зрозуміти, як добре модель впоралася з класифікацією для кожного окремого класу і вивести ці результати."
      ],
      "metadata": {
        "id": "95lzKOU8acRe"
      }
    },
    {
      "cell_type": "code",
      "source": [
        "class_correct = list(0. for i in range(10))\n",
        "class_total = list(0. for i in range(10))\n",
        "with torch.no_grad():\n",
        "    for data in testloader:\n",
        "        images, labels = data\n",
        "        outputs = net(images)\n",
        "        _, predicted = torch.max(outputs, 1)\n",
        "        c = (predicted == labels).squeeze()\n",
        "        for i in range(4):\n",
        "            label = labels[i]\n",
        "            class_correct[label] += c[i].item()\n",
        "            class_total[label] += 1\n",
        "\n",
        "\n",
        "for i in range(10):\n",
        "    print('Accuracy of %5s : %2d %%' % (\n",
        "        classes[i], 100 * class_correct[i] / class_total[i]))"
      ],
      "metadata": {
        "colab": {
          "base_uri": "https://localhost:8080/"
        },
        "id": "n2qI2uraZo0s",
        "outputId": "41d386d5-0418-40af-c47f-883aac74e458"
      },
      "execution_count": 21,
      "outputs": [
        {
          "output_type": "stream",
          "name": "stdout",
          "text": [
            "Accuracy of plane : 63 %\n",
            "Accuracy of   car : 56 %\n",
            "Accuracy of  bird : 36 %\n",
            "Accuracy of   cat : 33 %\n",
            "Accuracy of  deer : 50 %\n",
            "Accuracy of   dog : 32 %\n",
            "Accuracy of  frog : 84 %\n",
            "Accuracy of horse : 67 %\n",
            "Accuracy of  ship : 57 %\n",
            "Accuracy of truck : 61 %\n"
          ]
        }
      ]
    }
  ]
}